{
 "cells": [
  {
   "cell_type": "code",
   "execution_count": 22,
   "metadata": {},
   "outputs": [
    {
     "name": "stdout",
     "output_type": "stream",
     "text": [
      "[['sunny', 'rainy'], ['warm', 'cool'], ['normal', 'high'], ['strong', 'weak'], ['warm', 'cool'], ['same', 'change']]\n",
      "\n",
      "The no. of attributes:  6\n",
      "\n",
      "The most general hypothesis: ['?','?','?','?','?','?']\n",
      "\n",
      "\n",
      "The most specific hypothesis: ['0','0','0','0','0','0']\n",
      "\n",
      "\n",
      "The given training data set\n",
      "\n",
      "['sky', 'airtemp', 'humidity', 'wind', 'water', 'forecast', 'enjoysport']\n",
      "['sunny', 'warm', 'normal', 'strong', 'warm', 'same', 'yes']\n",
      "['sunny', 'warm', 'high', 'strong', 'warm', 'same', 'yes']\n",
      "['rainy', 'cold', 'high', 'strong', 'warm', 'change', 'no']\n",
      "['sunny', 'warm', 'high', 'strong', 'cold', 'change', 'yes']\n",
      "\n",
      "The initial value of hypothesis:\n",
      "['0', '0', '0', '0', '0', '0']\n",
      "\n",
      "For training examples:5 the hypothesis\n",
      " ['sunny', 'warm', '?', 'strong', '?', '?']\n"
     ]
    }
   ],
   "source": [
    "import random\n",
    "import csv\n",
    "\n",
    "attributes=[['sunny','rainy'],\n",
    "           ['warm','cool'],\n",
    "           ['normal','high'],\n",
    "           ['strong','weak'],\n",
    "           ['warm','cool'],\n",
    "           ['same','change']]\n",
    "\n",
    "print(attributes)\n",
    "num_attributes=len(attributes)\n",
    "print(\"\\nThe no. of attributes: \",num_attributes)\n",
    "\n",
    "print(\"\\nThe most general hypothesis: ['?','?','?','?','?','?']\\n\")\n",
    "print(\"\\nThe most specific hypothesis: ['0','0','0','0','0','0']\\n\")\n",
    "\n",
    "a=[]\n",
    "print(\"\\nThe given training data set\\n\")\n",
    "with open('temp.csv','r') as csvFile:\n",
    "    reader=csv.reader(csvFile)\n",
    "    for row in reader:\n",
    "        a.append(row)\n",
    "        print(row)\n",
    "        \n",
    "print(\"\\nThe initial value of hypothesis:\")\n",
    "h=['0']*num_attributes\n",
    "print(h)\n",
    "for i in range(0,len(a)):\n",
    "    if a[i][num_attributes]=='yes':\n",
    "        for j in range(num_attributes):\n",
    "            if h[j]=='0' or h[j]==a[i][j]:\n",
    "                h[j]=a[i][j]\n",
    "            else:\n",
    "                h[j]='?'\n",
    "print(\"\\nFor training examples:{0} the hypothesis\\n\".format(i+1),h)"
   ]
  }
 ],
 "metadata": {
  "kernelspec": {
   "display_name": "Python 3",
   "language": "python",
   "name": "python3"
  },
  "language_info": {
   "codemirror_mode": {
    "name": "ipython",
    "version": 3
   },
   "file_extension": ".py",
   "mimetype": "text/x-python",
   "name": "python",
   "nbconvert_exporter": "python",
   "pygments_lexer": "ipython3",
   "version": "3.7.3"
  }
 },
 "nbformat": 4,
 "nbformat_minor": 2
}
